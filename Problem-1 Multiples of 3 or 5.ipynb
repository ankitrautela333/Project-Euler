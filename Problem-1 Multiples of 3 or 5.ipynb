{
 "cells": [
  {
   "cell_type": "markdown",
   "id": "034cfc3b",
   "metadata": {},
   "source": [
    "Problem 1:\n",
    "If we list all the natural numbers below that are multiples of 3 or 5, we get 3,5,6 and 9. and . The sum of these multiples is 23.Find the sum of all the multiples of 3 or 5 below 1000."
   ]
  },
  {
   "cell_type": "code",
   "execution_count": 1,
   "id": "92a43de3",
   "metadata": {},
   "outputs": [
    {
     "data": {
      "text/plain": [
       "233168"
      ]
     },
     "execution_count": 1,
     "metadata": {},
     "output_type": "execute_result"
    }
   ],
   "source": [
    "last_num=1000\n",
    "total_sum=0\n",
    "for number in range(1,1000):\n",
    "    if number%3==0 or number%5==0:\n",
    "        total_sum+=number\n",
    "total_sum"
   ]
  },
  {
   "cell_type": "markdown",
   "id": "b2a262ad",
   "metadata": {},
   "source": [
    "# Optimised using arithmetic operation\n",
    "Sum of multiples of n below limit is:\n",
    "\n",
    "Sum=𝑛×𝑘(𝑘+1)/2<br>\n",
    "​where k = (limit - 1) // n\n",
    "\n",
    "Total sum = Sum of multiples of 3 + Sum of multiples of 5 – Sum of multiples of 15<br>\n",
    "(Subtract multiples of 15 because they are counted twice)"
   ]
  },
  {
   "cell_type": "code",
   "execution_count": 3,
   "id": "55b17c4f",
   "metadata": {},
   "outputs": [
    {
     "data": {
      "text/plain": [
       "233168"
      ]
     },
     "execution_count": 3,
     "metadata": {},
     "output_type": "execute_result"
    }
   ],
   "source": [
    "def sum_ofmultiples(number,limit):\n",
    "    k=(limit-1)//number\n",
    "    return number*k*(k+1)//2\n",
    "\n",
    "limit=1000\n",
    "sum_3=sum_ofmultiples(3,limit)\n",
    "sum_5=sum_ofmultiples(5,limit)\n",
    "sum_15=sum_ofmultiples(15,limit)\n",
    "total_sum=sum_3+sum_5-sum_15\n",
    "total_sum"
   ]
  },
  {
   "cell_type": "code",
   "execution_count": null,
   "id": "d10104a8",
   "metadata": {},
   "outputs": [],
   "source": []
  }
 ],
 "metadata": {
  "kernelspec": {
   "display_name": "Python 3",
   "language": "python",
   "name": "python3"
  },
  "language_info": {
   "codemirror_mode": {
    "name": "ipython",
    "version": 3
   },
   "file_extension": ".py",
   "mimetype": "text/x-python",
   "name": "python",
   "nbconvert_exporter": "python",
   "pygments_lexer": "ipython3",
   "version": "3.13.5"
  }
 },
 "nbformat": 4,
 "nbformat_minor": 5
}
